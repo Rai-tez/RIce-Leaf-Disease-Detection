{
 "cells": [
  {
   "cell_type": "markdown",
   "id": "rrmGtOssK8G2",
   "metadata": {
    "id": "rrmGtOssK8G2"
   },
   "source": [
    "# Import and Initialize"
   ]
  },
  {
   "cell_type": "code",
   "execution_count": 1,
   "id": "1933b42a",
   "metadata": {
    "id": "1933b42a"
   },
   "outputs": [],
   "source": [
    "# Plotting\n",
    "from sklearn.metrics import confusion_matrix\n",
    "from sklearn.metrics import precision_score, recall_score, f1_score, accuracy_score\n",
    "import seaborn as sb\n",
    "import matplotlib.pyplot as plt\n",
    "import pandas as pd\n",
    "%matplotlib inline\n",
    "\n",
    "# Tensorflow\n",
    "import tensorflow as tf\n",
    "import tensorflow.keras\n",
    "from tensorflow.keras.models import Sequential, Model\n",
    "from tensorflow.keras.layers import Dense, Bidirectional, LSTM, Reshape, Lambda, MultiHeadAttention, Flatten\n",
    "from tensorflow.keras.optimizers import Adam\n",
    "from tensorflow.keras.metrics import categorical_crossentropy\n",
    "from tensorflow.keras.preprocessing.image import ImageDataGenerator\n",
    "from tensorflow.keras.callbacks import ModelCheckpoint, EarlyStopping, CSVLogger\n",
    "from sklearn.model_selection import KFold\n",
    "\n",
    "# Preprocessing\n",
    "import numpy as np\n",
    "import cv2\n",
    "from PIL import Image\n",
    "from skimage.color import rgb2gray, rgb2hsv"
   ]
  },
  {
   "cell_type": "code",
   "execution_count": 2,
   "id": "063a0e33",
   "metadata": {},
   "outputs": [
    {
     "name": "stdout",
     "output_type": "stream",
     "text": [
      "[PhysicalDevice(name='/physical_device:GPU:0', device_type='GPU')]\n"
     ]
    }
   ],
   "source": [
    "###############################################################\n",
    "#             SET FIRST IF USING LOCAL OR COLAB               #\n",
    "###############################################################\n",
    "\n",
    "\n",
    "##############################\n",
    "\n",
    "USING_LOCAL = True\n",
    "\n",
    "##############################\n",
    "\n",
    "\n",
    "if (USING_LOCAL):\n",
    "    # set gpu to be the one doing the computation\n",
    "    phy_devices = tf.config.experimental.list_physical_devices('GPU')\n",
    "    print(phy_devices)\n",
    "    if phy_devices:\n",
    "        tf.config.experimental.set_memory_growth(phy_devices[0], True)\n",
    "        \n",
    "    # this folder must exist in your local where this ntbk is located\n",
    "    # the folder 'data' must contain the dir of your dataset\n",
    "#     root = '../cnn/my-first-cnn/data'\n",
    "    root = 'data'\n",
    "    \n",
    "    #Drei's root path to datasets\n",
    "    #root = 'D:/Andrei/Andrei/Prog Applications/datasets'\n",
    "else:\n",
    "    # mount google drive to get the dataset\n",
    "    from google.colab import drive\n",
    "    drive.mount('/content/drive')\n",
    "    \n",
    "    # set root path of the dataset\n",
    "    # create shortcut of the dataset to your own drive\n",
    "    # 'Shared with me' dir wont work\n",
    "    root = '/content/drive/skewl/Dataset'"
   ]
  },
  {
   "cell_type": "markdown",
   "id": "EpTB8IGbLMg_",
   "metadata": {
    "id": "EpTB8IGbLMg_"
   },
   "source": [
    "# Define Functions"
   ]
  },
  {
   "cell_type": "markdown",
   "id": "aJ9j_uwo2QUK",
   "metadata": {
    "id": "aJ9j_uwo2QUK"
   },
   "source": [
    "### Get datasets"
   ]
  },
  {
   "cell_type": "code",
   "execution_count": 3,
   "id": "020e9e71",
   "metadata": {
    "id": "399f533b"
   },
   "outputs": [],
   "source": [
    "def get_train_X_and_Y(train_path, size=(224,224), batch_size=1):\n",
    "    train_batch = tf.keras.utils.image_dataset_from_directory(\n",
    "        directory=train_path, \n",
    "        image_size=size,\n",
    "        labels='inferred',\n",
    "        label_mode='int',\n",
    "        shuffle=True,\n",
    "        batch_size=batch_size,\n",
    "        seed = 9\n",
    "    )\n",
    "    \n",
    "    X = []\n",
    "    Y = []\n",
    "    for images, labels in train_batch.take(-1):\n",
    "        X.append(images.numpy()[0,:,:,:])\n",
    "        Y.append(labels.numpy()[0])\n",
    "    return np.array(X), np.array(Y)\n",
    "\n",
    "def get_train_XY_and_valid(train_path, size=(224,224), batch_size=1, split=.15):\n",
    "    train_batch = tf.keras.utils.image_dataset_from_directory(\n",
    "        directory=train_path, \n",
    "        image_size=size,\n",
    "        labels='inferred',\n",
    "        label_mode='int',\n",
    "        shuffle=True,\n",
    "        validation_split=split,\n",
    "        batch_size=batch_size,\n",
    "        subset=\"training\",\n",
    "        seed = 9\n",
    "    )\n",
    "    \n",
    "    valid_batch = tf.keras.utils.image_dataset_from_directory(\n",
    "        directory=train_path, \n",
    "        image_size=size, \n",
    "        labels='inferred',\n",
    "        label_mode='int',\n",
    "        validation_split=split,\n",
    "        batch_size=batch_size,\n",
    "        shuffle=True,\n",
    "        subset='validation',\n",
    "        seed = 9\n",
    "    )\n",
    "    \n",
    "    X = []\n",
    "    Y = []\n",
    "    for images, labels in train_batch.take(-1):\n",
    "        X.append(images.numpy()[0,:,:,:])\n",
    "        Y.append(labels.numpy()[0])\n",
    "        \n",
    "    return np.array(X), np.array(Y), valid_batch\n",
    "\n",
    "\n",
    "def get_test(test_path, size=(224,224), batch_size=1):\n",
    "    test_batch = tf.keras.utils.image_dataset_from_directory(\n",
    "        directory=test_path, \n",
    "        image_size=size, \n",
    "        labels='inferred',\n",
    "        label_mode='int',\n",
    "        batch_size=batch_size,\n",
    "    )\n",
    "\n",
    "    X = []\n",
    "    Y = []\n",
    "    for images, labels in test_batch.take(-1):\n",
    "        X.append(images.numpy()[0,:,:,:])\n",
    "        Y.append(labels.numpy()[0])\n",
    "    return np.array(X), np.array(Y), test_batch"
   ]
  },
  {
   "cell_type": "code",
   "execution_count": 4,
   "id": "bd2c7ab4",
   "metadata": {},
   "outputs": [],
   "source": [
    "# X, Y = get_train_X_and_Y(train_path)"
   ]
  },
  {
   "cell_type": "code",
   "execution_count": 5,
   "id": "2834d936",
   "metadata": {},
   "outputs": [],
   "source": [
    "# print(Y)"
   ]
  },
  {
   "cell_type": "markdown",
   "id": "_1xLp9El3q7Q",
   "metadata": {
    "id": "_1xLp9El3q7Q"
   },
   "source": [
    "### Plotting batch images"
   ]
  },
  {
   "cell_type": "code",
   "execution_count": 6,
   "id": "500817c1",
   "metadata": {
    "id": "500817c1"
   },
   "outputs": [],
   "source": [
    "def plotImagesWithBatch(batch):\n",
    "    imgs, labels = next(batch)\n",
    "    fig, axes = plt.subplots(1,10,figsize=(20,20))\n",
    "    axes = axes.flatten()\n",
    "    for img, ax in zip(imgs, axes):\n",
    "        ax.imshow(img/255)\n",
    "        ax.axis('off')\n",
    "    plt.tight_layout()\n",
    "    plt.show()"
   ]
  },
  {
   "cell_type": "code",
   "execution_count": 7,
   "id": "c5a90ab3",
   "metadata": {},
   "outputs": [],
   "source": [
    "# plt.figure(figsize=(10, 10))\n",
    "# for i in range(12):\n",
    "#     ax = plt.subplot(4, 4, i + 1)\n",
    "#     image = X[i][0,:,:,:]\n",
    "#     plt.imshow(image.astype(\"uint8\"))\n",
    "#     plt.title(class_names[Y[i][0]])\n",
    "#     plt.axis(\"off\")"
   ]
  },
  {
   "cell_type": "markdown",
   "id": "Zd7bfR0a3xo_",
   "metadata": {
    "id": "Zd7bfR0a3xo_"
   },
   "source": [
    "### Model function"
   ]
  },
  {
   "cell_type": "code",
   "execution_count": 8,
   "id": "T25LZs2LUzXn",
   "metadata": {
    "id": "T25LZs2LUzXn"
   },
   "outputs": [],
   "source": [
    "def ReshapeLayer(x):\n",
    "    shape = x.shape\n",
    "    reshape = Reshape((shape[1],shape[2]*shape[3]))(x)\n",
    "    return reshape"
   ]
  },
  {
   "cell_type": "markdown",
   "id": "2UVpmmxCLwoo",
   "metadata": {
    "id": "2UVpmmxCLwoo"
   },
   "source": [
    "# Training the Model"
   ]
  },
  {
   "cell_type": "markdown",
   "id": "s3hJgBIaL1SV",
   "metadata": {
    "id": "s3hJgBIaL1SV"
   },
   "source": [
    "### Set Training Variables"
   ]
  },
  {
   "cell_type": "code",
   "execution_count": 9,
   "id": "28267243",
   "metadata": {
    "id": "28267243"
   },
   "outputs": [],
   "source": [
    "\n",
    "# dataset_path = f'{root}/CompletePreprocess_RiceDiseaseDataset'\n",
    "#dataset_path = f'{root}/PreprocessedRiceDiseaseDataset'\n",
    "#dataset_path = f'{root}/Rice diseases(Machine learning finals)/RiceDiseaseDataset'\n",
    "# dataset_path = f'{root}/PetImages_2000-500-800'\n",
    "# dataset_path = f'{root}/threshold with shadow removal 3'\n",
    "# dataset_path = f'{root}/_PlantVillage_Apple'\n",
    "# dataset_path = f'{root}/_RiceDiseaseDataset'\n",
    "dataset_path = f'{root}/_Wang_Nabawasan'\n",
    "\n",
    "train_path = f'{dataset_path}/training'\n",
    "\n",
    "#########################################################################\n",
    "#      MUST BE FALSE IF USING CompletePreprocess_RiceDiseaseDataset     #\n",
    "#########################################################################\n",
    "# True if using unpreprocessed data\n",
    "include_preprocessing = False\n",
    "\n",
    "#########################################################################\n",
    "#      MUST BE FALSE IF USING CompletePreprocess_RiceDiseaseDataset     #\n",
    "#########################################################################\n",
    "# False if the available folders are only Train and Testing\n",
    "dedicated_validation_folder = False\n",
    "\n",
    "if dedicated_validation_folder:\n",
    "    valid_path = f'{dataset_path}/validation'\n",
    "    test_path = f'{dataset_path}/testing'\n",
    "else:\n",
    "    test_path = f'{dataset_path}/testing'\n",
    "\n",
    "per_batch_size = 16\n",
    "size = (224, 224)\n",
    "\n",
    "class_names = ['BrownSpot', 'Healthy', 'Hispa', 'LeafBlast']\n",
    "# class_names = ['Apple___Apple_scab', 'Apple___Black_rot', 'Apple___Cedar_apple_rust', 'Apple___healthy']\n",
    "# class_names = ['dog', 'cat']\n",
    "num_classes = len(class_names)"
   ]
  },
  {
   "cell_type": "code",
   "execution_count": 10,
   "id": "qgNlh1PAK1S4",
   "metadata": {
    "id": "qgNlh1PAK1S4"
   },
   "outputs": [],
   "source": [
    "input_shape = (size[0], size[1], 3)\n",
    "learn_rate = 0.0001\n",
    "#learn_rate = 0.001\n",
    "# learn_rate = 3e-4"
   ]
  },
  {
   "cell_type": "markdown",
   "id": "oWQQtPSnL9Um",
   "metadata": {
    "id": "oWQQtPSnL9Um"
   },
   "source": [
    "### Define Models"
   ]
  },
  {
   "cell_type": "code",
   "execution_count": 11,
   "id": "6a0556fe",
   "metadata": {},
   "outputs": [],
   "source": [
    "# ###############################################################\n",
    "# #                       MobileNet PURE                        #\n",
    "# ###############################################################\n",
    "# def create_MobileNet_pure():\n",
    "#     #imports the mobilenet model and discards the last 1000 neuron layer.\n",
    "#     base_model=tf.keras.applications.MobileNet(input_shape=(224, 224, 3))\n",
    "    \n",
    "#     #Start of model sequence \n",
    "#     x = base_model.layers[-6].output\n",
    "#     preds = Dense(num_classes,activation='softmax')(x) #final layer with softmax activation\n",
    "    \n",
    "#     model=Model(inputs=base_model.input,outputs=preds)\n",
    "    \n",
    "#     l = -23\n",
    "#     for layer in model.layers[:l]:\n",
    "#         layer.trainable=False\n",
    "#     for layer in model.layers[l:]:\n",
    "#         layer.trainable=True\n",
    "\n",
    "#     model.compile(optimizer=Adam(learning_rate=learn_rate), loss=\"categorical_crossentropy\", metrics=['accuracy'])\n",
    "# #     model.compile(optimizer=Adam(learning_rate=learn_rate), loss=\"sparse_categorical_crossentropy\", metrics=['accuracy'])\n",
    "\n",
    "#     return model"
   ]
  },
  {
   "cell_type": "code",
   "execution_count": 12,
   "id": "63098943",
   "metadata": {
    "id": "63098943"
   },
   "outputs": [],
   "source": [
    "# ###############################################################\n",
    "# #                   MobileNet with BiLSTM                     #\n",
    "# ###############################################################\n",
    "# def create_MobileNet_model():\n",
    "#     #imports the mobilenet model and discards the last 1000 neuron layer.\n",
    "#     base_model=tf.keras.applications.MobileNet(\n",
    "#         include_top=False, #will not include FC Layers\n",
    "#         input_shape=(224, 224, 3),\n",
    "#         weights='imagenet'\n",
    "#     )\n",
    "    \n",
    "#     #the application of tanh as an activation in BiLSTM is better than relu\n",
    "#     #as it is one of the requirements to use cuDNN kernels for faster training\n",
    "#     #activation[relu] = 8 seconds avg in training after 1st epoch\n",
    "#     #activation[tanh] = 4 seconds avg in training after 1st epoch \n",
    "#     forward_layer = LSTM(128, return_sequences=True)\n",
    "#     backward_layer = LSTM(128, activation='tanh', return_sequences=True, recurrent_dropout=0, go_backwards=True)\n",
    "    \n",
    "#     bilstm1 = Bidirectional(forward_layer, backward_layer = backward_layer)\n",
    "#     bilstm2 = Bidirectional(LSTM(64, activation='tanh',recurrent_dropout=0))\n",
    "    \n",
    "#     #Start of model sequence \n",
    "#     x = base_model.output\n",
    "#     x = Lambda(ReshapeLayer)(x)\n",
    "#     x = bilstm1(x)\n",
    "#     x = bilstm2(x)\n",
    "    \n",
    "#     preds = Dense(num_classes,activation='softmax')(x) #final layer with softmax activation\n",
    "    \n",
    "#     model=Model(inputs=base_model.input,outputs=preds)\n",
    "    \n",
    "#     l = -23\n",
    "#     for layer in model.layers[:l]:\n",
    "#         layer.trainable=False\n",
    "#     for layer in model.layers[l:]:\n",
    "#         layer.trainable=True\n",
    "\n",
    "# #     model.compile(optimizer=Adam(learning_rate=learn_rate), loss=\"categorical_crossentropy\", metrics=['accuracy'])\n",
    "#     model.compile(optimizer=Adam(learning_rate=learn_rate), loss=\"sparse_categorical_crossentropy\", metrics=['accuracy'])\n",
    "\n",
    "#     return model"
   ]
  },
  {
   "cell_type": "code",
   "execution_count": 13,
   "id": "270a6057",
   "metadata": {
    "id": "270a6057"
   },
   "outputs": [],
   "source": [
    "###############################################################\n",
    "#            MobileNet with BiLSTM and Attention              #\n",
    "###############################################################\n",
    "\n",
    "def create_MobileNet_Attention():\n",
    "    #imports the mobilenet model and discards the last 1000 neuron layer.\n",
    "    base_model=tf.keras.applications.MobileNet(\n",
    "        include_top=False, #will not include FC Layers\n",
    "        input_shape=(224, 224, 3),\n",
    "        dropout=0.3,\n",
    "        weights='imagenet'\n",
    "    )\n",
    "\n",
    "    attention = MultiHeadAttention(num_heads=2, key_dim=2)\n",
    "    \n",
    "    #the application of tanh as an activation in BiLSTM is better than relu\n",
    "    #as it is one of the requirements to use cuDNN kernels for faster training\n",
    "    #activation[relu] = 8 seconds avg in training after 1st epoch\n",
    "    #activation[tanh] = 4 seconds avg in training after 1st epoch \n",
    "    forward_layer = LSTM(128, return_sequences=True)\n",
    "    backward_layer = LSTM(128, activation='tanh', return_sequences=True, recurrent_dropout=0, go_backwards=True)\n",
    "    \n",
    "    bilstm1 = Bidirectional(forward_layer, backward_layer = backward_layer)\n",
    "    bilstm2 = Bidirectional(LSTM(128, activation='tanh',recurrent_dropout=0))\n",
    "\n",
    "    #Start of model sequence \n",
    "    x = base_model.output\n",
    "\n",
    "    x = attention(x, x, training=True)\n",
    "    \n",
    "    x = Lambda(ReshapeLayer)(x)\n",
    "    x = bilstm1(x)\n",
    "    x = bilstm2(x)\n",
    "    preds = Dense(num_classes,activation='softmax')(x) #final layer with softmax activation\n",
    "\n",
    "    model=Model(inputs=base_model.input,outputs=preds)\n",
    "\n",
    "    l = -23\n",
    "    for layer in model.layers[:l]:\n",
    "        layer.trainable=False\n",
    "    for layer in model.layers[l:]:\n",
    "        layer.trainable=True\n",
    "\n",
    "    model.compile(optimizer=Adam(learning_rate=learn_rate), loss=\"sparse_categorical_crossentropy\", metrics=['accuracy'])\n",
    "    \n",
    "    return model"
   ]
  },
  {
   "cell_type": "markdown",
   "id": "07b48deb",
   "metadata": {
    "id": "07b48deb"
   },
   "source": [
    "### Usual Training"
   ]
  },
  {
   "cell_type": "code",
   "execution_count": 14,
   "id": "e15eb836",
   "metadata": {},
   "outputs": [],
   "source": [
    "#################################################################\n",
    "#      DO NOT RUN THIS WHEN DOING CROSS VALIDATION TRAINING     #\n",
    "#################################################################"
   ]
  },
  {
   "cell_type": "code",
   "execution_count": 15,
   "id": "9c039c94",
   "metadata": {
    "colab": {
     "base_uri": "https://localhost:8080/"
    },
    "id": "9c039c94",
    "outputId": "b8f64317-8118-4d5b-c6ae-e70ae839e754"
   },
   "outputs": [],
   "source": [
    "# train_batch, valid_batch = get_train_and_valid()"
   ]
  },
  {
   "cell_type": "code",
   "execution_count": 16,
   "id": "910009ff",
   "metadata": {
    "id": "910009ff",
    "scrolled": true
   },
   "outputs": [],
   "source": [
    "# mn = create_MobileNet_model()\n",
    "# mn.summary()"
   ]
  },
  {
   "cell_type": "code",
   "execution_count": 17,
   "id": "xZ8Xa4Av6Iab",
   "metadata": {
    "colab": {
     "base_uri": "https://localhost:8080/",
     "height": 163
    },
    "id": "xZ8Xa4Av6Iab",
    "outputId": "a6109979-0ce5-43c5-d793-f2d534bcc2e7"
   },
   "outputs": [],
   "source": [
    "# plotImagesWithBatch(train_batch)"
   ]
  },
  {
   "cell_type": "code",
   "execution_count": 18,
   "id": "98bd2d92",
   "metadata": {},
   "outputs": [],
   "source": [
    "# epochs = 100"
   ]
  },
  {
   "cell_type": "code",
   "execution_count": 19,
   "id": "5a9354e2",
   "metadata": {
    "id": "5a9354e2"
   },
   "outputs": [],
   "source": [
    "# model_history = mn.fit(x=train_batch, validation_data=valid_batch, epochs=epochs, verbose=1)"
   ]
  },
  {
   "cell_type": "markdown",
   "id": "dc76dbb8",
   "metadata": {
    "id": "dc76dbb8"
   },
   "source": [
    "### 5-Fold Training"
   ]
  },
  {
   "cell_type": "code",
   "execution_count": 20,
   "id": "2731b9b7",
   "metadata": {
    "id": "2731b9b7"
   },
   "outputs": [],
   "source": [
    "model_label = 'mnet_bilstm_att_rice_kfolded'\n",
    "\n",
    "# set early stopping criteria\n",
    "pat = 5 # this is the number of epochs with no improvment after which the training will stop\n",
    "early_stopping = EarlyStopping(monitor='val_loss', patience=pat, verbose=1, baseline=None)\n",
    "\n",
    "# define the model checkpoint callback -> this will keep on saving the model as a physical file\n",
    "model_checkpoint = ModelCheckpoint(f'model_checkpoints/{model_label}.h5', verbose=1, save_best_only=True)\n",
    "\n",
    "# to save the history of models\n",
    "csv_logger = CSVLogger(f'logs/{model_label}.log', separator=\",\", append=True)"
   ]
  },
  {
   "cell_type": "code",
   "execution_count": 21,
   "id": "6c2abc4b",
   "metadata": {},
   "outputs": [
    {
     "name": "stdout",
     "output_type": "stream",
     "text": [
      "Found 840 files belonging to 4 classes.\n"
     ]
    }
   ],
   "source": [
    "#save the model history in a list after fitting so that we can plot later\n",
    "model_history = []\n",
    "model_eval_score = []\n",
    "\n",
    "n_folds=5\n",
    "epochs=100\n",
    "batch_size=32\n",
    "\n",
    "loaded_model_file_path = 'model_checkpoints/'\n",
    "loaded_model_file_name = model_label\n",
    "\n",
    "# Define the K-fold Cross Validator\n",
    "kfold = KFold(n_splits=n_folds, shuffle=False)\n",
    "\n",
    "X, Y = get_train_X_and_Y(train_path)"
   ]
  },
  {
   "cell_type": "code",
   "execution_count": 22,
   "id": "9c0a3aba",
   "metadata": {
    "colab": {
     "base_uri": "https://localhost:8080/"
    },
    "id": "9c0a3aba",
    "outputId": "d648ecfb-bd6d-4726-e1fb-eb7a2d943efa",
    "scrolled": true
   },
   "outputs": [
    {
     "name": "stdout",
     "output_type": "stream",
     "text": [
      "Training on Fold: 1\n",
      "Epoch 1/100\n",
      "18/18 [==============================] - 19s 391ms/step - loss: 1.0841 - accuracy: 0.4904 - val_loss: 2.0150 - val_accuracy: 0.3168\n",
      "\n",
      "Epoch 00001: val_loss improved from inf to 2.01504, saving model to model_checkpoints\\mnet_bilstm_att_rice_kfolded.h5\n",
      "Epoch 2/100\n",
      "18/18 [==============================] - 2s 131ms/step - loss: 0.5587 - accuracy: 0.7478 - val_loss: 2.4148 - val_accuracy: 0.3366\n",
      "\n",
      "Epoch 00002: val_loss did not improve from 2.01504\n",
      "Epoch 3/100\n",
      "18/18 [==============================] - 2s 130ms/step - loss: 0.2691 - accuracy: 0.8862 - val_loss: 2.6598 - val_accuracy: 0.3762\n",
      "\n",
      "Epoch 00003: val_loss did not improve from 2.01504\n",
      "Epoch 4/100\n",
      "18/18 [==============================] - 3s 149ms/step - loss: 0.0816 - accuracy: 0.9790 - val_loss: 3.1337 - val_accuracy: 0.3762\n",
      "\n",
      "Epoch 00004: val_loss did not improve from 2.01504\n",
      "Epoch 5/100\n",
      "18/18 [==============================] - 3s 178ms/step - loss: 0.0331 - accuracy: 0.9947 - val_loss: 2.8732 - val_accuracy: 0.4455\n",
      "\n",
      "Epoch 00005: val_loss did not improve from 2.01504\n",
      "Epoch 6/100\n",
      "18/18 [==============================] - 3s 155ms/step - loss: 0.0124 - accuracy: 0.9965 - val_loss: 2.5496 - val_accuracy: 0.4851\n",
      "\n",
      "Epoch 00006: val_loss did not improve from 2.01504\n",
      "Epoch 00006: early stopping\n",
      "\n",
      "Evaluating on Fold 1:\n",
      "6/6 [==============================] - 1s 220ms/step - loss: 2.8809 - accuracy: 0.3869\n",
      "====================================================================================\n",
      "\n",
      "\n",
      "Training on Fold: 2\n",
      "Epoch 1/100\n",
      "18/18 [==============================] - 16s 347ms/step - loss: 1.1339 - accuracy: 0.4326 - val_loss: 1.9971 - val_accuracy: 0.3168\n",
      "\n",
      "Epoch 00001: val_loss improved from 2.01504 to 1.99712, saving model to model_checkpoints\\mnet_bilstm_att_rice_kfolded.h5\n",
      "Epoch 2/100\n",
      "18/18 [==============================] - 2s 124ms/step - loss: 0.6540 - accuracy: 0.7110 - val_loss: 2.7053 - val_accuracy: 0.3168\n",
      "\n",
      "Epoch 00002: val_loss did not improve from 1.99712\n",
      "Epoch 3/100\n",
      "18/18 [==============================] - 2s 124ms/step - loss: 0.3429 - accuracy: 0.8687 - val_loss: 2.9336 - val_accuracy: 0.3168\n",
      "\n",
      "Epoch 00003: val_loss did not improve from 1.99712\n",
      "Epoch 4/100\n",
      "18/18 [==============================] - 3s 181ms/step - loss: 0.1604 - accuracy: 0.9457 - val_loss: 2.8472 - val_accuracy: 0.3366\n",
      "\n",
      "Epoch 00004: val_loss did not improve from 1.99712\n",
      "Epoch 5/100\n",
      "18/18 [==============================] - 4s 224ms/step - loss: 0.1357 - accuracy: 0.9510 - val_loss: 2.4880 - val_accuracy: 0.3069\n",
      "\n",
      "Epoch 00005: val_loss did not improve from 1.99712\n",
      "Epoch 6/100\n",
      "18/18 [==============================] - 2s 130ms/step - loss: 0.1265 - accuracy: 0.9510 - val_loss: 2.3352 - val_accuracy: 0.3861\n",
      "\n",
      "Epoch 00006: val_loss did not improve from 1.99712\n",
      "Epoch 00006: early stopping\n",
      "\n",
      "Evaluating on Fold 2:\n",
      "6/6 [==============================] - 0s 72ms/step - loss: 2.3215 - accuracy: 0.3333\n",
      "====================================================================================\n",
      "\n",
      "\n",
      "Training on Fold: 3\n",
      "Epoch 1/100\n",
      "18/18 [==============================] - 17s 298ms/step - loss: 1.1907 - accuracy: 0.4238 - val_loss: 1.7150 - val_accuracy: 0.3168\n",
      "\n",
      "Epoch 00001: val_loss improved from 1.99712 to 1.71502, saving model to model_checkpoints\\mnet_bilstm_att_rice_kfolded.h5\n",
      "Epoch 2/100\n",
      "18/18 [==============================] - 2s 135ms/step - loss: 0.7205 - accuracy: 0.6813 - val_loss: 2.0520 - val_accuracy: 0.3267\n",
      "\n",
      "Epoch 00002: val_loss did not improve from 1.71502\n",
      "Epoch 3/100\n",
      "18/18 [==============================] - 2s 126ms/step - loss: 0.3440 - accuracy: 0.8564 - val_loss: 1.7466 - val_accuracy: 0.4752\n",
      "\n",
      "Epoch 00003: val_loss did not improve from 1.71502\n",
      "Epoch 4/100\n",
      "18/18 [==============================] - 2s 124ms/step - loss: 0.1518 - accuracy: 0.9492 - val_loss: 1.1719 - val_accuracy: 0.6139\n",
      "\n",
      "Epoch 00004: val_loss improved from 1.71502 to 1.17190, saving model to model_checkpoints\\mnet_bilstm_att_rice_kfolded.h5\n",
      "Epoch 5/100\n",
      "18/18 [==============================] - 3s 188ms/step - loss: 0.0798 - accuracy: 0.9737 - val_loss: 1.3451 - val_accuracy: 0.5545\n",
      "\n",
      "Epoch 00005: val_loss did not improve from 1.17190\n",
      "Epoch 6/100\n",
      "18/18 [==============================] - 3s 158ms/step - loss: 0.0711 - accuracy: 0.9790 - val_loss: 1.8644 - val_accuracy: 0.5149\n",
      "\n",
      "Epoch 00006: val_loss did not improve from 1.17190\n",
      "Epoch 7/100\n",
      "18/18 [==============================] - 3s 147ms/step - loss: 0.0221 - accuracy: 0.9947 - val_loss: 1.6534 - val_accuracy: 0.5842\n",
      "\n",
      "Epoch 00007: val_loss did not improve from 1.17190\n",
      "Epoch 8/100\n",
      "18/18 [==============================] - 4s 215ms/step - loss: 0.0182 - accuracy: 0.9982 - val_loss: 1.6650 - val_accuracy: 0.5842\n",
      "\n",
      "Epoch 00008: val_loss did not improve from 1.17190\n",
      "Epoch 9/100\n",
      "18/18 [==============================] - 3s 182ms/step - loss: 0.0045 - accuracy: 1.0000 - val_loss: 1.6936 - val_accuracy: 0.5941\n",
      "\n",
      "Epoch 00009: val_loss did not improve from 1.17190\n",
      "Epoch 00009: early stopping\n",
      "\n",
      "Evaluating on Fold 3:\n",
      "6/6 [==============================] - 0s 75ms/step - loss: 1.4452 - accuracy: 0.6310\n",
      "====================================================================================\n",
      "\n",
      "\n",
      "Training on Fold: 4\n",
      "Epoch 1/100\n",
      "18/18 [==============================] - 15s 331ms/step - loss: 1.1244 - accuracy: 0.4483 - val_loss: 2.0719 - val_accuracy: 0.3168\n",
      "\n",
      "Epoch 00001: val_loss did not improve from 1.17190\n",
      "Epoch 2/100\n",
      "18/18 [==============================] - 2s 134ms/step - loss: 0.6422 - accuracy: 0.7128 - val_loss: 2.4339 - val_accuracy: 0.3168\n",
      "\n",
      "Epoch 00002: val_loss did not improve from 1.17190\n",
      "Epoch 3/100\n",
      "18/18 [==============================] - 2s 133ms/step - loss: 0.2857 - accuracy: 0.9002 - val_loss: 2.2893 - val_accuracy: 0.3663\n",
      "\n",
      "Epoch 00003: val_loss did not improve from 1.17190\n",
      "Epoch 4/100\n",
      "18/18 [==============================] - 2s 132ms/step - loss: 0.0986 - accuracy: 0.9650 - val_loss: 2.1552 - val_accuracy: 0.4356\n",
      "\n",
      "Epoch 00004: val_loss did not improve from 1.17190\n",
      "Epoch 5/100\n",
      "18/18 [==============================] - 2s 129ms/step - loss: 0.0407 - accuracy: 0.9860 - val_loss: 1.9203 - val_accuracy: 0.4554\n",
      "\n",
      "Epoch 00005: val_loss did not improve from 1.17190\n",
      "Epoch 6/100\n",
      "18/18 [==============================] - 2s 132ms/step - loss: 0.0463 - accuracy: 0.9842 - val_loss: 1.6772 - val_accuracy: 0.5347\n",
      "\n",
      "Epoch 00006: val_loss did not improve from 1.17190\n",
      "Epoch 7/100\n",
      "18/18 [==============================] - 2s 132ms/step - loss: 0.0098 - accuracy: 1.0000 - val_loss: 1.5268 - val_accuracy: 0.5941\n",
      "\n",
      "Epoch 00007: val_loss did not improve from 1.17190\n",
      "Epoch 8/100\n",
      "18/18 [==============================] - 2s 130ms/step - loss: 0.0046 - accuracy: 1.0000 - val_loss: 1.5707 - val_accuracy: 0.6436\n",
      "\n",
      "Epoch 00008: val_loss did not improve from 1.17190\n",
      "Epoch 9/100\n",
      "18/18 [==============================] - 2s 131ms/step - loss: 0.0032 - accuracy: 1.0000 - val_loss: 1.6290 - val_accuracy: 0.6436\n",
      "\n",
      "Epoch 00009: val_loss did not improve from 1.17190\n",
      "Epoch 10/100\n",
      "18/18 [==============================] - 2s 131ms/step - loss: 0.0025 - accuracy: 1.0000 - val_loss: 1.6657 - val_accuracy: 0.6436\n",
      "\n",
      "Epoch 00010: val_loss did not improve from 1.17190\n",
      "Epoch 11/100\n",
      "18/18 [==============================] - 2s 136ms/step - loss: 0.0020 - accuracy: 1.0000 - val_loss: 1.6874 - val_accuracy: 0.6337\n",
      "\n",
      "Epoch 00011: val_loss did not improve from 1.17190\n",
      "Epoch 12/100\n",
      "18/18 [==============================] - 3s 142ms/step - loss: 0.0017 - accuracy: 1.0000 - val_loss: 1.7004 - val_accuracy: 0.6436\n",
      "\n",
      "Epoch 00012: val_loss did not improve from 1.17190\n",
      "Epoch 00012: early stopping\n",
      "\n",
      "Evaluating on Fold 4:\n",
      "6/6 [==============================] - 1s 163ms/step - loss: 1.4935 - accuracy: 0.6786\n",
      "====================================================================================\n",
      "\n",
      "\n",
      "Training on Fold: 5\n",
      "Epoch 1/100\n",
      "18/18 [==============================] - 14s 251ms/step - loss: 1.1074 - accuracy: 0.4729 - val_loss: 2.3270 - val_accuracy: 0.2277\n",
      "\n",
      "Epoch 00001: val_loss did not improve from 1.17190\n",
      "Epoch 2/100\n",
      "18/18 [==============================] - 2s 129ms/step - loss: 0.6308 - accuracy: 0.7531 - val_loss: 2.6081 - val_accuracy: 0.2376\n",
      "\n",
      "Epoch 00002: val_loss did not improve from 1.17190\n",
      "Epoch 3/100\n"
     ]
    },
    {
     "name": "stdout",
     "output_type": "stream",
     "text": [
      "18/18 [==============================] - 2s 130ms/step - loss: 0.2984 - accuracy: 0.8949 - val_loss: 2.4854 - val_accuracy: 0.3465\n",
      "\n",
      "Epoch 00003: val_loss did not improve from 1.17190\n",
      "Epoch 4/100\n",
      "18/18 [==============================] - 2s 128ms/step - loss: 0.0939 - accuracy: 0.9720 - val_loss: 2.2286 - val_accuracy: 0.4158\n",
      "\n",
      "Epoch 00004: val_loss did not improve from 1.17190\n",
      "Epoch 5/100\n",
      "18/18 [==============================] - 2s 129ms/step - loss: 0.0322 - accuracy: 0.9930 - val_loss: 2.5723 - val_accuracy: 0.3762\n",
      "\n",
      "Epoch 00005: val_loss did not improve from 1.17190\n",
      "Epoch 6/100\n",
      "18/18 [==============================] - 3s 174ms/step - loss: 0.0135 - accuracy: 0.9982 - val_loss: 1.8372 - val_accuracy: 0.4554\n",
      "\n",
      "Epoch 00006: val_loss did not improve from 1.17190\n",
      "Epoch 7/100\n",
      "18/18 [==============================] - 3s 142ms/step - loss: 0.0054 - accuracy: 1.0000 - val_loss: 1.6371 - val_accuracy: 0.5149\n",
      "\n",
      "Epoch 00007: val_loss did not improve from 1.17190\n",
      "Epoch 8/100\n",
      "18/18 [==============================] - 3s 140ms/step - loss: 0.0037 - accuracy: 1.0000 - val_loss: 1.5508 - val_accuracy: 0.6040\n",
      "\n",
      "Epoch 00008: val_loss did not improve from 1.17190\n",
      "Epoch 9/100\n",
      "18/18 [==============================] - 3s 161ms/step - loss: 0.0030 - accuracy: 1.0000 - val_loss: 1.5375 - val_accuracy: 0.6040\n",
      "\n",
      "Epoch 00009: val_loss did not improve from 1.17190\n",
      "Epoch 10/100\n",
      "18/18 [==============================] - 3s 189ms/step - loss: 0.0025 - accuracy: 1.0000 - val_loss: 1.5343 - val_accuracy: 0.6436\n",
      "\n",
      "Epoch 00010: val_loss did not improve from 1.17190\n",
      "Epoch 11/100\n",
      "18/18 [==============================] - 3s 162ms/step - loss: 0.0021 - accuracy: 1.0000 - val_loss: 1.5561 - val_accuracy: 0.6535\n",
      "\n",
      "Epoch 00011: val_loss did not improve from 1.17190\n",
      "Epoch 12/100\n",
      "18/18 [==============================] - 3s 143ms/step - loss: 0.0018 - accuracy: 1.0000 - val_loss: 1.6027 - val_accuracy: 0.6634\n",
      "\n",
      "Epoch 00012: val_loss did not improve from 1.17190\n",
      "Epoch 13/100\n",
      "18/18 [==============================] - 4s 202ms/step - loss: 0.0016 - accuracy: 1.0000 - val_loss: 1.6625 - val_accuracy: 0.6634\n",
      "\n",
      "Epoch 00013: val_loss did not improve from 1.17190\n",
      "Epoch 14/100\n",
      "18/18 [==============================] - 3s 141ms/step - loss: 0.0014 - accuracy: 1.0000 - val_loss: 1.7119 - val_accuracy: 0.6832\n",
      "\n",
      "Epoch 00014: val_loss did not improve from 1.17190\n",
      "Epoch 15/100\n",
      "18/18 [==============================] - 3s 141ms/step - loss: 0.0012 - accuracy: 1.0000 - val_loss: 1.7526 - val_accuracy: 0.6832\n",
      "\n",
      "Epoch 00015: val_loss did not improve from 1.17190\n",
      "Epoch 00015: early stopping\n",
      "\n",
      "Evaluating on Fold 5:\n",
      "6/6 [==============================] - 0s 75ms/step - loss: 1.6558 - accuracy: 0.6726\n",
      "====================================================================================\n",
      "\n",
      "\n"
     ]
    }
   ],
   "source": [
    "# K-fold Cross Validation model evaluation\n",
    "fold_no = 1\n",
    "for train, valid in kfold.split(X, Y):\n",
    "    print(f\"Training on Fold: {fold_no}\")\n",
    "\n",
    "    model = create_MobileNet_Attention()\n",
    "\n",
    "    model_history.append(model.fit(\n",
    "        X[train], Y[train],\n",
    "        validation_split=.15,\n",
    "        epochs=epochs,\n",
    "        batch_size=batch_size,\n",
    "        callbacks=[early_stopping, model_checkpoint, csv_logger],\n",
    "        verbose=1,\n",
    "        shuffle = False\n",
    "    ))\n",
    "    \n",
    "    print(f\"\\nEvaluating on Fold {fold_no}:\")\n",
    "    \n",
    "    model_eval_score.append(model.evaluate(X[valid], Y[valid], batch_size=batch_size, verbose=1))\n",
    "    \n",
    "    print(\"=======\"*12, end=\"\\n\\n\\n\")\n",
    "    \n",
    "    # Increase fold number\n",
    "    fold_no = fold_no + 1"
   ]
  },
  {
   "cell_type": "markdown",
   "id": "CJzN_sU6MsbL",
   "metadata": {
    "id": "CJzN_sU6MsbL"
   },
   "source": [
    "# Prediction and Confusion Matrix"
   ]
  },
  {
   "cell_type": "code",
   "execution_count": 23,
   "id": "5c635b9c",
   "metadata": {},
   "outputs": [],
   "source": [
    "# loading h5 file or the model that has undergon cross validation\n",
    "saved_model_file_path = 'model_checkpoints/'\n",
    "saved_model_file_name = model_label\n",
    "saved_model = tf.keras.models.load_model(saved_model_file_path + saved_model_file_name + '.h5')"
   ]
  },
  {
   "cell_type": "code",
   "execution_count": 24,
   "id": "83c6efe5",
   "metadata": {},
   "outputs": [],
   "source": [
    "# saved_model.summary()"
   ]
  },
  {
   "cell_type": "code",
   "execution_count": 25,
   "id": "655e19c4",
   "metadata": {},
   "outputs": [
    {
     "name": "stdout",
     "output_type": "stream",
     "text": [
      "Found 360 files belonging to 4 classes.\n"
     ]
    }
   ],
   "source": [
    "test_images, test_labels, test_batch = get_test(test_path)"
   ]
  },
  {
   "cell_type": "code",
   "execution_count": 26,
   "id": "cc2c5019",
   "metadata": {},
   "outputs": [],
   "source": [
    "y_test = test_labels\n",
    "# y_test = test_labels.argmax(axis=1) # for categorical"
   ]
  },
  {
   "cell_type": "code",
   "execution_count": 27,
   "id": "48e6e6fd",
   "metadata": {},
   "outputs": [
    {
     "name": "stdout",
     "output_type": "stream",
     "text": [
      "12/12 - 3s\n"
     ]
    }
   ],
   "source": [
    "y_pred = saved_model.predict(x=test_images, verbose=2)"
   ]
  },
  {
   "cell_type": "code",
   "execution_count": 28,
   "id": "2f790fbb",
   "metadata": {},
   "outputs": [],
   "source": [
    "y_pred_ARGMAX = y_pred.argmax(axis=1)"
   ]
  },
  {
   "cell_type": "code",
   "execution_count": 29,
   "id": "ee8746f5",
   "metadata": {},
   "outputs": [
    {
     "data": {
      "text/plain": [
       "[Text(0, 0.5, 'Apple___Apple_scab'),\n",
       " Text(0, 1.5, 'Apple___Black_rot'),\n",
       " Text(0, 2.5, 'Apple___Cedar_apple_rust'),\n",
       " Text(0, 3.5, 'Apple___healthy')]"
      ]
     },
     "execution_count": 29,
     "metadata": {},
     "output_type": "execute_result"
    },
    {
     "data": {
      "image/png": "[encoded data removed]",
      "text/plain": [
       "<Figure size 432x288 with 2 Axes>"
      ]
     },
     "metadata": {
      "needs_background": "light"
     },
     "output_type": "display_data"
    }
   ],
   "source": [
    "#https://www.stackvidhya.com/plot-confusion-matrix-in-python-and-why/\n",
    "#Confusion Matrix\n",
    "\n",
    "conf_matrix = confusion_matrix(y_test, y_pred_ARGMAX)\n",
    "ax = sb.heatmap(conf_matrix, annot=True, cmap='Blues')\n",
    "ax.set_title('Confusion Matrix\\n')\n",
    "ax.set_xlabel('\\nPredicted Values')\n",
    "ax.set_ylabel('Actual Values ')\n",
    "ax.xaxis.set_ticklabels(class_names)\n",
    "ax.yaxis.set_ticklabels(class_names)"
   ]
  },
  {
   "cell_type": "code",
   "execution_count": 30,
   "id": "69846954",
   "metadata": {
    "id": "69846954"
   },
   "outputs": [],
   "source": [
    "precision = precision_score(y_test, y_pred_ARGMAX, average = None)\n",
    "accuracy = accuracy_score(y_test, y_pred_ARGMAX)\n",
    "recall = recall_score(y_test, y_pred_ARGMAX, average = None)\n",
    "f1 = f1_score(y_test, y_pred_ARGMAX, average = None)"
   ]
  },
  {
   "cell_type": "code",
   "execution_count": 31,
   "id": "661a2485",
   "metadata": {},
   "outputs": [
    {
     "data": {
      "text/html": [
       "<div>\n",
       "<style scoped>\n",
       "    .dataframe tbody tr th:only-of-type {\n",
       "        vertical-align: middle;\n",
       "    }\n",
       "\n",
       "    .dataframe tbody tr th {\n",
       "        vertical-align: top;\n",
       "    }\n",
       "\n",
       "    .dataframe thead th {\n",
       "        text-align: right;\n",
       "    }\n",
       "</style>\n",
       "<table border=\"1\" class=\"dataframe\">\n",
       "  <thead>\n",
       "    <tr style=\"text-align: right;\">\n",
       "      <th></th>\n",
       "      <th>Precision</th>\n",
       "      <th>Recall</th>\n",
       "      <th>F1</th>\n",
       "    </tr>\n",
       "  </thead>\n",
       "  <tbody>\n",
       "    <tr>\n",
       "      <th>Apple___Apple_scab</th>\n",
       "      <td>88.888889</td>\n",
       "      <td>17.777778</td>\n",
       "      <td>29.629630</td>\n",
       "    </tr>\n",
       "    <tr>\n",
       "      <th>Apple___Black_rot</th>\n",
       "      <td>33.720930</td>\n",
       "      <td>96.666667</td>\n",
       "      <td>50.000000</td>\n",
       "    </tr>\n",
       "    <tr>\n",
       "      <th>Apple___Cedar_apple_rust</th>\n",
       "      <td>33.333333</td>\n",
       "      <td>4.444444</td>\n",
       "      <td>7.843137</td>\n",
       "    </tr>\n",
       "    <tr>\n",
       "      <th>Apple___healthy</th>\n",
       "      <td>31.944444</td>\n",
       "      <td>25.555556</td>\n",
       "      <td>28.395062</td>\n",
       "    </tr>\n",
       "  </tbody>\n",
       "</table>\n",
       "</div>"
      ],
      "text/plain": [
       "                          Precision     Recall         F1\n",
       "Apple___Apple_scab        88.888889  17.777778  29.629630\n",
       "Apple___Black_rot         33.720930  96.666667  50.000000\n",
       "Apple___Cedar_apple_rust  33.333333   4.444444   7.843137\n",
       "Apple___healthy           31.944444  25.555556  28.395062"
      ]
     },
     "execution_count": 31,
     "metadata": {},
     "output_type": "execute_result"
    }
   ],
   "source": [
    "#print('Precision: %.3f' % precision)\n",
    "#print('Accuracy: %.3f' % accuracy)\n",
    "#print('Recall: %.3f' % recall)\n",
    "#print('F1-Score: %.3f' % f1)\n",
    "format = {}\n",
    "\n",
    "for n in range(len(class_names)):\n",
    "    format[class_names[n]] = [precision[n]* 100, recall[n]* 100, f1[n]* 100]\n",
    "    \n",
    "df = pd.DataFrame(format, ['Precision', 'Recall', 'F1']).T\n",
    "df"
   ]
  },
  {
   "cell_type": "code",
   "execution_count": 32,
   "id": "1ad07087",
   "metadata": {},
   "outputs": [
    {
     "name": "stdout",
     "output_type": "stream",
     "text": [
      "Accuracy: 36.111\n"
     ]
    }
   ],
   "source": [
    "print('Accuracy: %.3f' % (accuracy * 100))"
   ]
  },
  {
   "cell_type": "code",
   "execution_count": 33,
   "id": "788ac5e6",
   "metadata": {},
   "outputs": [
    {
     "name": "stdout",
     "output_type": "stream",
     "text": [
      "360/360 [==============================] - 8s 14ms/step - loss: 2.2127 - accuracy: 0.3611\n"
     ]
    },
    {
     "data": {
      "text/plain": [
       "[2.2127037048339844, 0.3611111044883728]"
      ]
     },
     "execution_count": 33,
     "metadata": {},
     "output_type": "execute_result"
    }
   ],
   "source": [
    "saved_model.evaluate(x=test_batch, batch_size=32)"
   ]
  },
  {
   "cell_type": "code",
   "execution_count": null,
   "id": "844d4959",
   "metadata": {},
   "outputs": [],
   "source": []
  }
 ],
 "metadata": {
  "accelerator": "GPU",
  "colab": {
   "name": "cnn-bilstm-att.ipynb",
   "provenance": [],
   "toc_visible": true
  },
  "kernelspec": {
   "display_name": "Python 3 (ipykernel)",
   "language": "python",
   "name": "python3"
  },
  "language_info": {
   "codemirror_mode": {
    "name": "ipython",
    "version": 3
   },
   "file_extension": ".py",
   "mimetype": "text/x-python",
   "name": "python",
   "nbconvert_exporter": "python",
   "pygments_lexer": "ipython3",
   "version": "3.9.12"
  }
 },
 "nbformat": 4,
 "nbformat_minor": 5
}
