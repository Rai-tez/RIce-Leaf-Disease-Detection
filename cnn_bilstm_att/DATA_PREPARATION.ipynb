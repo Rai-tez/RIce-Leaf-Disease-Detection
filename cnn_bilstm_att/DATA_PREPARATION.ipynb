{
 "cells": [
  {
   "cell_type": "code",
   "execution_count": null,
   "id": "f4336e4c",
   "metadata": {},
   "outputs": [],
   "source": [
    "import itertools\n",
    "import cv2\n",
    "import os\n",
    "import shutil\n",
    "import glob\n",
    "import numpy as np \n",
    "from PIL import Image\n",
    "from skimage.color import rgb2gray, rgb2hsv\n",
    "from matplotlib import pyplot as plt\n",
    "from tensorflow.keras.preprocessing.image import ImageDataGenerator"
   ]
  },
  {
   "cell_type": "markdown",
   "id": "412d2ff7",
   "metadata": {},
   "source": [
    "### Configurations for Data Preparation"
   ]
  },
  {
   "cell_type": "code",
   "execution_count": null,
   "id": "9b171dd8",
   "metadata": {},
   "outputs": [],
   "source": [
    "config = {\n",
    "    'setup_dir': True,\n",
    "    # 240 -> 60%, 20%, 20%\n",
    "    'total_dataset_count': 240,\n",
    "    'split': {\n",
    "        'training': .60,\n",
    "        'validation': .20,\n",
    "        'testing': .20,\n",
    "    },\n",
    "    'classes': ['blast', 'blight', 'tungro'],\n",
    "    'folders' = ['training', 'validation' ,'testing']\n",
    "    'src_path': 'Rice diseases exclusively' # source path\n",
    "    'dst_path': '_Rice diseases exclusively_with_valid', # destination path\n",
    "    # --------------------------\n",
    "    'data_augmentation': True,\n",
    "    'ext': 'jpg',\n",
    "    'augmented_images': # augmentation function\n",
    "    lambda from_path, to_path, batch_size, ext, classes : ImageDataGenerator(\n",
    "            height_shift_range=0.2,\n",
    "            width_shift_range=0.2,\n",
    "            zoom_range=0.2,\n",
    "            horizontal_flip=True,\n",
    "            fill_mode='nearest'\n",
    "        ).flow_from_directory(\n",
    "            directory=from_path, \n",
    "            classes=classes,\n",
    "            batch_size=batch_size, \n",
    "            save_to_dir=to_path,\n",
    "            save_format=ext\n",
    "        )\n",
    "    # --------------------------\n",
    "    'preprocess' : True,\n",
    "    'save_path' : 'data/_Preprocessed_Rice diseases exclusively_with_valid',\n",
    "    \n",
    "}\n",
    "\n",
    "# Set variables\n",
    "setup_dir = config['setup_dir']\n",
    "total_dataset_count = config['total_dataset_count']\n",
    "split_dict = config['split']\n",
    "data_augmentation  = config['data_augmentation']\n",
    "classes = config['classes']\n",
    "folders = config['folders']\n",
    "dataset_label = config['dataset_label']\n",
    "ext = config['ext']\n",
    "src_path = config['src_path']\n",
    "dst_path = config['dst_path']\n",
    "preprocess = config['preprocess']\n",
    "num_classes = len(classes)\n",
    "\n",
    "size = (299,299)\n",
    "\n",
    "# Checks if classes and class_path are aligned\n",
    "if setup_dir:\n",
    "    for C in classes:\n",
    "        assert class_path[C], 'The list \"class_path\" is missing a class found in list \"classes\"'\n",
    "    for key in class_path:\n",
    "        assert key in classes, 'The list \"classes\" is missing a class found in list \"class_path\"'\n",
    "\n",
    "os.chdir('data') # data folder; contains "
   ]
  },
  {
   "cell_type": "markdown",
   "id": "7e1cd402",
   "metadata": {},
   "source": [
    "### Split Dataset for Training, Validation, and Testing"
   ]
  },
  {
   "cell_type": "code",
   "execution_count": null,
   "id": "f0aed8c3",
   "metadata": {},
   "outputs": [],
   "source": [
    "if setup_dir:\n",
    "    # make destination path folders\n",
    "    os.makedirs(dst_path)\n",
    "    os.chdir(dst_path)\n",
    "    for C in classes:\n",
    "        for f in folders:\n",
    "            os.makedirs(f'{f}/{C}')\n",
    "    os.chdir('../')\n",
    "\n",
    "    # transfer from src to dst\n",
    "    for C in classes:\n",
    "        images = glob.glob(f'{src_path}/{foldr}/{C}/*.jpg') # filenames\n",
    "        image_index = 0\n",
    "        for f in folders:\n",
    "            length = total_dataset_count * split_dict[f]\n",
    "            for i in range(length):\n",
    "                shutil.move(images[image_index], f'{dst_path}/{f}/{C}')"
   ]
  },
  {
   "cell_type": "markdown",
   "id": "b8ac816a",
   "metadata": {},
   "source": [
    "### Apply Data Augmentation"
   ]
  },
  {
   "cell_type": "code",
   "execution_count": null,
   "id": "e57cf6d0",
   "metadata": {},
   "outputs": [],
   "source": [
    "if data_augmentation:\n",
    "    # augmentation to same folder\n",
    "    os.chdir(dst_path)\n",
    "    \n",
    "    from_path = 'nonaugmented_training' # original\n",
    "    to_path = 'training' # augmented\n",
    "    \n",
    "    range_size = 400 # 400 target images per class\n",
    "\n",
    "    if not os.path.isdir(from_path):\n",
    "        os.rename(to_path,from_path)\n",
    "        os.makedirs(to_path)\n",
    "    os.chdir(to_path)\n",
    "\n",
    "    for C in classes:\n",
    "        assert not os.path.isdir(C), 'Please delete all class folders in the \"training\" folder'\n",
    "        os.makedirs(C)\n",
    "    os.chdir('../')\n",
    "\n",
    "    for C in classes:\n",
    "        fn = config['augmented_images']\n",
    "        augmented_images = fn(from_path=from_path, \n",
    "                              to_path=f'training/{C}', \n",
    "                              ext=ext,\n",
    "                              classes=[C],\n",
    "                              batch_size=1)\n",
    "\n",
    "        for i in range(range_size):\n",
    "          augmented_images.next()\n",
    "\n",
    "    os.chdir('../')"
   ]
  },
  {
   "cell_type": "markdown",
   "id": "73dcefbb",
   "metadata": {},
   "source": [
    "### Preprocessing"
   ]
  },
  {
   "cell_type": "code",
   "execution_count": null,
   "id": "0b97ccf1",
   "metadata": {},
   "outputs": [],
   "source": [
    "def threshold(picture_rgb):\n",
    "    picture_rgb = picture_rgb.astype(\"uint8\")\n",
    "    picture = cv2.cvtColor(picture_rgb, cv2.COLOR_RGB2GRAY)\n",
    "    blurred_picture = cv2.GaussianBlur(picture, (15,15), cv2.BORDER_DEFAULT)\n",
    "\n",
    "    # Simple Thresholding\n",
    "    threshold, thresh = cv2.threshold(blurred_picture, 105, 255, cv2.THRESH_OTSU)\n",
    "    thresh_inv = cv2.bitwise_not(thresh)\n",
    "    stacked = np.dstack((thresh_inv,thresh_inv,thresh_inv))\n",
    "    img = cv2.bitwise_and(picture_rgb, stacked)\n",
    "    # foreground = cv2.cvtColor(img, cv2.COLOR_BGR2RGB)\n",
    "    foreground = img.copy()\n",
    "    foreground[np.all(foreground == (0, 0, 0), axis=-1)] = (255,255,255)\n",
    "    \n",
    "    return foreground\n",
    "\n",
    "def resize(img, size=(299,299)):\n",
    "    return cv2.resize(img, size)"
   ]
  },
  {
   "cell_type": "code",
   "execution_count": null,
   "id": "46e25259",
   "metadata": {},
   "outputs": [],
   "source": [
    "def create_dir(foldr):\n",
    "    # create dir for preprocessed\n",
    "    main_path = os.getcwd()\n",
    "    \n",
    "    os.chdir(save_path)\n",
    "    os.makedirs(foldr)\n",
    "    os.chdir(foldr)\n",
    "\n",
    "    for C in classes:\n",
    "        assert not os.path.isdir(C), f'Please delete all class folders in the {foldr} folder'\n",
    "        os.makedirs(C)\n",
    "    os.chdir('../../../')\n",
    "    \n",
    "    assert os.getcwd() == main_path, main_path"
   ]
  },
  {
   "cell_type": "code",
   "execution_count": null,
   "id": "f33f6691",
   "metadata": {},
   "outputs": [],
   "source": [
    "def create_preprocessed_images(foldr, exact_amount=False):\n",
    "    dataset_path = dst_path\n",
    "    \n",
    "    # intended number of images\n",
    "    # will be used if exact_amount is false\n",
    "    range_size = 123 \n",
    "    if foldr == folders[0]:\n",
    "        range_size = 400\n",
    "    \n",
    "    for C in classes:\n",
    "        if exact_amount:\n",
    "            range_size = len(glob.glob(f'{dataset_path}/{foldr}/{C}/*.jpg'))\n",
    "\n",
    "        preprocessed = ImageDataGenerator(preprocessing_function=preprocess) \\\n",
    "                .flow_from_directory(\n",
    "                    directory=f'{dataset_path}/{foldr}', \n",
    "                    target_size=size, \n",
    "                    classes=[C], \n",
    "                    batch_size=1,\n",
    "                    save_to_dir=save_path+f'/{foldr}/{C}',\n",
    "                    save_format='jpg'\n",
    "                )\n",
    "        for i in range(range_size):\n",
    "          preprocessed.next()"
   ]
  },
  {
   "cell_type": "code",
   "execution_count": 7,
   "id": "8b79d440",
   "metadata": {
    "scrolled": true
   },
   "outputs": [
    {
     "name": "stdout",
     "output_type": "stream",
     "text": [
      "Found 400 images belonging to 1 classes.\n",
      "Found 400 images belonging to 1 classes.\n",
      "Found 400 images belonging to 1 classes.\n",
      "Found 16 images belonging to 1 classes.\n",
      "Found 16 images belonging to 1 classes.\n",
      "Found 16 images belonging to 1 classes.\n",
      "Found 16 images belonging to 1 classes.\n",
      "Found 16 images belonging to 1 classes.\n",
      "Found 16 images belonging to 1 classes.\n"
     ]
    }
   ],
   "source": [
    " if preprocess:\n",
    "    for foldr in folders:\n",
    "        create_dir(foldr)\n",
    "        create_preprocessed_images(foldr, exact_amount=True)"
   ]
  },
  {
   "cell_type": "code",
   "execution_count": null,
   "id": "a0111548",
   "metadata": {},
   "outputs": [],
   "source": []
  }
 ],
 "metadata": {
  "kernelspec": {
   "display_name": "Python 3 (ipykernel)",
   "language": "python",
   "name": "python3"
  },
  "language_info": {
   "codemirror_mode": {
    "name": "ipython",
    "version": 3
   },
   "file_extension": ".py",
   "mimetype": "text/x-python",
   "name": "python",
   "nbconvert_exporter": "python",
   "pygments_lexer": "ipython3",
   "version": "3.9.12"
  }
 },
 "nbformat": 4,
 "nbformat_minor": 5
}
